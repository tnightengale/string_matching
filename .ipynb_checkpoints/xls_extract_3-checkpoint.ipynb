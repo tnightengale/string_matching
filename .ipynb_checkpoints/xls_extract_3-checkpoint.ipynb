{
 "cells": [
  {
   "cell_type": "markdown",
   "metadata": {},
   "source": [
    "# Excel Extract: Book 3"
   ]
  },
  {
   "cell_type": "markdown",
   "metadata": {},
   "source": [
    "## Extract files using file depths"
   ]
  },
  {
   "cell_type": "code",
   "execution_count": 1,
   "metadata": {},
   "outputs": [],
   "source": [
    "import glob\n",
    "import os\n",
    "import pandas as pd\n",
    "import re\n",
    "import jellyfish\n",
    "import numpy as np\n",
    "import itertools\n",
    "import seaborn as sns\n",
    "sns.set()"
   ]
  },
  {
   "cell_type": "markdown",
   "metadata": {},
   "source": [
    "## Alternative approach "
   ]
  },
  {
   "cell_type": "markdown",
   "metadata": {},
   "source": [
    "A case specific set of rules could be hard coded to pick out file names of interest using regex:"
   ]
  },
  {
   "cell_type": "markdown",
   "metadata": {},
   "source": [
    "## A further approach"
   ]
  },
  {
   "cell_type": "markdown",
   "metadata": {},
   "source": [
    "One realization is that the files we want can be identified in the context of their position within the file tree. The idea is that files on the save level of a tree are probably similar. Thus attempting to work with a flat list of all file names actually reduces important contextual information."
   ]
  },
  {
   "cell_type": "code",
   "execution_count": 2,
   "metadata": {},
   "outputs": [],
   "source": [
    "## NO LONGER USED\n",
    "def dir_to_lists(path):\n",
    "    '''\n",
    "    Some baller recursion in a \n",
    "    list comprehension to return\n",
    "    a list of lists representation\n",
    "    of a particular directory.\n",
    "    '''\n",
    "    dirs = os.listdir(path)\n",
    "    return [dir_to_lists(path + r'\\{}'.format(item)) if os.path.isdir(path + r'\\{}'.format(item)) else item for item in dirs]\n",
    "      \n",
    "            "
   ]
  },
  {
   "cell_type": "code",
   "execution_count": 3,
   "metadata": {},
   "outputs": [],
   "source": [
    "## NO LONGER USED\n",
    "def dir_to_dicts(path):\n",
    "    '''\n",
    "    Some baller recursion in a \n",
    "    list comprehension with dict\n",
    "    key to directory name to return\n",
    "    a dict of dict and list\n",
    "    representation\n",
    "    of a particular directory.\n",
    "    '''\n",
    "    dirs = os.listdir(path)\n",
    "    return {path:[dir_to_dicts(path + r'\\{}'.format(item)) if os.path.isdir(path + r'\\{}'.format(item)) else item for item in dirs]}\n",
    "            "
   ]
  },
  {
   "cell_type": "markdown",
   "metadata": {},
   "source": [
    "Found some really great code that more easily solves the problem. Link here: https://stackoverflow.com/questions/40641615/what-is-the-difference-between-a-frame-and-object-and-when-should-i-modify-one"
   ]
  },
  {
   "cell_type": "code",
   "execution_count": 4,
   "metadata": {},
   "outputs": [],
   "source": [
    "from inspect import getouterframes, currentframe\n",
    "import os\n",
    "\n",
    "def runrec(src):\n",
    "    '''\n",
    "    Modified function from link above\n",
    "    to yield tuples where the [1] index\n",
    "    of each tuple is an int representing\n",
    "    the depth of that dir or file in \n",
    "    the system.\n",
    "    '''\n",
    "    level = len(getouterframes(currentframe()))\n",
    "    yield (src, level)\n",
    "    for x in os.listdir(src):\n",
    "        srcname = os.path.join(src, x)\n",
    "        if os.path.isdir(srcname):\n",
    "            yield from runrec(srcname)\n",
    "        else:\n",
    "            yield (srcname,level+1)"
   ]
  },
  {
   "cell_type": "code",
   "execution_count": 12,
   "metadata": {},
   "outputs": [],
   "source": [
    "a = list(runrec(r\"Z:\\Data\\Surveys\\Quarterly Mutual Fund Survey\\2018\") )"
   ]
  },
  {
   "cell_type": "code",
   "execution_count": 6,
   "metadata": {},
   "outputs": [],
   "source": [
    "def groupings(list_of_tuples):\n",
    "    '''\n",
    "    Takes in a list_of_tuples, where the \n",
    "    [0] index is a path name and the [1]\n",
    "    index is the depth. Returns a dict\n",
    "    where the keys are the depths and \n",
    "    the paths are a list assigned to the\n",
    "    keys.\n",
    "    '''\n",
    "    groups = {}\n",
    "    for i in list_of_tuples:\n",
    "        if i[1] in groups.keys():\n",
    "            groups[i[1]].append(i[0]) # groups = {i[k]:['path1','path2'...], ...}\n",
    "        else:\n",
    "            groups[i[1]] = [i[0]]\n",
    "        \n",
    "    return groups"
   ]
  },
  {
   "cell_type": "code",
   "execution_count": 7,
   "metadata": {},
   "outputs": [],
   "source": [
    "d = groupings(a)"
   ]
  },
  {
   "cell_type": "code",
   "execution_count": 9,
   "metadata": {},
   "outputs": [],
   "source": [
    "def largest_group(dict_of_lists):\n",
    "    '''\n",
    "    Takes in the above output and\n",
    "    finds largest group. Outputs\n",
    "    group as a list.\n",
    "    '''\n",
    "    values = list(map(lambda x: len(dict_of_lists[x]), dict_of_lists.keys()))\n",
    "    index_max = max(range(len(values)), key=values.__getitem__)\n",
    "    key_with_most_paths = list(dict_of_lists.keys())[index_max]\n",
    "    return dict_of_lists[key_with_most_paths]"
   ]
  },
  {
   "cell_type": "markdown",
   "metadata": {},
   "source": [
    "Right now this function naively finds the largest grouping of files at a given depth in the file tree. A ui version would suggest groupings of files to the user, by descending group size. "
   ]
  },
  {
   "cell_type": "code",
   "execution_count": 11,
   "metadata": {},
   "outputs": [],
   "source": [
    "list_of_files = largest_group(d) # stored in hardcoded2"
   ]
  }
 ],
 "metadata": {
  "kernelspec": {
   "display_name": "Python 3",
   "language": "python",
   "name": "python3"
  },
  "language_info": {
   "codemirror_mode": {
    "name": "ipython",
    "version": 3
   },
   "file_extension": ".py",
   "mimetype": "text/x-python",
   "name": "python",
   "nbconvert_exporter": "python",
   "pygments_lexer": "ipython3",
   "version": "3.7.2"
  }
 },
 "nbformat": 4,
 "nbformat_minor": 2
}
