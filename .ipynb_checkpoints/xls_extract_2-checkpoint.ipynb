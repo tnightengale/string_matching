{
 "cells": [
  {
   "cell_type": "markdown",
   "metadata": {},
   "source": [
    "# Excel Extract: Book 2"
   ]
  },
  {
   "cell_type": "markdown",
   "metadata": {},
   "source": [
    "## Explore methods for traversing directories recursively and clustering common file names"
   ]
  },
  {
   "cell_type": "code",
   "execution_count": 16,
   "metadata": {},
   "outputs": [],
   "source": [
    "import glob\n",
    "import os\n",
    "import pandas as pd\n",
    "import re\n",
    "import jellyfish\n",
    "import numpy as np\n",
    "import itertools\n",
    "import seaborn as sns\n",
    "sns.set()"
   ]
  },
  {
   "cell_type": "code",
   "execution_count": 2,
   "metadata": {},
   "outputs": [],
   "source": [
    "def file_search(dirpath):\n",
    "    '''\n",
    "    Recursively walks the dirpath and creates a list of all\n",
    "    files. Clusters files by similarity and outputs a list\n",
    "    of the most prevalent cluster.\n",
    "    '''\n",
    "    file_paths = []\n",
    "    for root, dirs, files in os.walk(dirpath):\n",
    "        for filename in files:\n",
    "            file_paths.append(os.path.join(root,filename))\n",
    "    return file_paths"
   ]
  },
  {
   "cell_type": "code",
   "execution_count": 3,
   "metadata": {},
   "outputs": [],
   "source": [
    "test = r'Z:\\Data\\Surveys\\Quarterly Mutual Fund Survey\\2018'"
   ]
  },
  {
   "cell_type": "code",
   "execution_count": 4,
   "metadata": {},
   "outputs": [],
   "source": [
    "file_path_list = file_search(test)"
   ]
  },
  {
   "cell_type": "markdown",
   "metadata": {},
   "source": [
    "## Implement similarity metrics to cluster file names"
   ]
  },
  {
   "cell_type": "markdown",
   "metadata": {},
   "source": [
    "Approach: build a pairwise comparison matrix for j>i (else null). After algorithm is built, attempt to apply the similarity metric to the pairs as they are being constructed. Result is an upper triangular matrix with (hopefully) some linear boundary x."
   ]
  },
  {
   "cell_type": "markdown",
   "metadata": {},
   "source": [
    "Itertools has a function for pairwise combinations, which creates a pairwise list, rather than a matrix:"
   ]
  },
  {
   "cell_type": "code",
   "execution_count": 5,
   "metadata": {},
   "outputs": [],
   "source": [
    "combinations = list(itertools.combinations(file_path_list,2))"
   ]
  },
  {
   "cell_type": "markdown",
   "metadata": {},
   "source": [
    "Apply the similarity metrics to each tuple in the pairwise combinations:"
   ]
  },
  {
   "cell_type": "code",
   "execution_count": 6,
   "metadata": {},
   "outputs": [],
   "source": [
    "ld = [jellyfish.levenshtein_distance(i[0],i[1]) for i in combinations]"
   ]
  },
  {
   "cell_type": "markdown",
   "metadata": {},
   "source": [
    "### Visualize distribution of measures "
   ]
  },
  {
   "cell_type": "code",
   "execution_count": 7,
   "metadata": {},
   "outputs": [
    {
     "data": {
      "text/plain": [
       "<matplotlib.axes._subplots.AxesSubplot at 0x222be57d9b0>"
      ]
     },
     "execution_count": 7,
     "metadata": {},
     "output_type": "execute_result"
    },
    {
     "data": {
      "image/png": "[encoded data removed]",
      "text/plain": [
       "<Figure size 432x288 with 1 Axes>"
      ]
     },
     "metadata": {
      "needs_background": "light"
     },
     "output_type": "display_data"
    }
   ],
   "source": [
    "sns.distplot(ld)"
   ]
  },
  {
   "cell_type": "markdown",
   "metadata": {},
   "source": [
    "It looks like the levenshtein distance metric produces a fairly continuous distribution that would not be easy to segment linearly. \n",
    "\n",
    "One potential continuation of this approach would be to examine some clustering methods, and perhaps create more features by applying other similarity metrics to the pairwise combinations. These higher dimensional datapoints may be easier to classify."
   ]
  },
  {
   "cell_type": "markdown",
   "metadata": {},
   "source": [
    "### Continuation with k-means on raw strings (no feature engineering)"
   ]
  },
  {
   "cell_type": "code",
   "execution_count": 8,
   "metadata": {},
   "outputs": [],
   "source": [
    "from sklearn.feature_extraction.text import TfidfVectorizer\n",
    "from sklearn.cluster import KMeans\n",
    "from sklearn.metrics import adjusted_rand_score"
   ]
  },
  {
   "cell_type": "code",
   "execution_count": 11,
   "metadata": {},
   "outputs": [
    {
     "data": {
      "text/plain": [
       "KMeans(algorithm='auto', copy_x=True, init='k-means++', max_iter=100,\n",
       "    n_clusters=2, n_init=1, n_jobs=None, precompute_distances='auto',\n",
       "    random_state=None, tol=0.0001, verbose=0)"
      ]
     },
     "execution_count": 11,
     "metadata": {},
     "output_type": "execute_result"
    }
   ],
   "source": [
    "vectorizer = TfidfVectorizer(stop_words='english')\n",
    "X = vectorizer.fit_transform(file_path_list)\n",
    "\n",
    "true_k = 2\n",
    "model = KMeans(n_clusters=true_k, init='k-means++', max_iter=100, n_init=1)\n",
    "model.fit(X)"
   ]
  },
  {
   "cell_type": "code",
   "execution_count": 12,
   "metadata": {},
   "outputs": [
    {
     "name": "stdout",
     "output_type": "stream",
     "text": [
      "Top terms per cluster:\n",
      "Cluster 0:\n",
      " q1\n",
      " 2018\n",
      " survey\n",
      " mutual\n",
      " fund\n",
      " quarterly\n",
      " data\n",
      " surveys\n",
      " xlsx\n",
      " received\n",
      "Cluster 1:\n",
      " 2018\n",
      " survey\n",
      " mutual\n",
      " quarterly\n",
      " fund\n",
      " q2\n",
      " q3\n",
      " q4\n",
      " data\n",
      " surveys\n"
     ]
    }
   ],
   "source": [
    "print(\"Top terms per cluster:\")\n",
    "order_centroids = model.cluster_centers_.argsort()[:, ::-1]\n",
    "terms = vectorizer.get_feature_names()\n",
    "for i in range(true_k):\n",
    "    print(\"Cluster %d:\" % i),\n",
    "    for ind in order_centroids[i, :10]:\n",
    "        print(' %s' % terms[ind])"
   ]
  },
  {
   "cell_type": "markdown",
   "metadata": {},
   "source": [
    "The above categorization seems very unpromising. The strings are very similar for a large portion of the beginning and the end of the string."
   ]
  },
  {
   "cell_type": "code",
   "execution_count": 15,
   "metadata": {},
   "outputs": [
    {
     "name": "stdout",
     "output_type": "stream",
     "text": [
      "[0]        Q1\\Contact list Q1 2018.xlsx\n",
      "[0]        Q1\\Q1 2018-Quarterly Mutual Fund Survey.xlsx\n",
      "[0]        Q1\\Survey Tracker.xlsx\n",
      "[0]        Q1\\Received\\Q1 2018 Assets.xlsx\n",
      "[0]        Q1\\Received\\Q1 2018 RedGr.xlsx\n",
      "[0]        Q1\\Received\\AGF\\AGF Q1 2018-Quarterly Mutual Fund Survey Inquiries.xlsx\n",
      "[0]        Q1\\Received\\AGF\\AGF Q1 2018-Quarterly Mutual Fund Survey.xlsx\n",
      "[0]        Q1\\Received\\AVISO\\AVISO Q1 2018-Quarterly Mutual Fund Survey Inquiries.xlsx\n",
      "[0]        Q1\\Received\\AVISO\\AVISO Q1 2018-Quarterly Mutual Fund Survey.xlsx\n",
      "[0]        Q1\\Received\\AVISO\\RE Quarterly mutual fund survey - provincial data inquiries.msg\n",
      "[0]        Q1\\Received\\BMO\\2018_Q1 - BMO Quarterly Mutual Fund Survey.xlsx\n",
      "[0]        Q1\\Received\\Bridgehouse\\Bridgehouse Q1 2018-Quarterly Mutual Fund Survey.xlsx\n",
      "[0]        Q1\\Received\\CI\\Q1_2018_All_CI_Brands.xls\n",
      "[0]        Q1\\Received\\CIBC\\CIBC Template Q1 2018.xlsx\n",
      "[0]        Q1\\Received\\CIBC\\Copy of Q1 2018 - CIBC Quarterly Mutual Fund Survey.xls\n",
      "[0]        Q1\\Received\\CIBC\\Copy of Q1 2018 - Renaissance Quarterly Mutual Fund Survey HC.xls\n",
      "[0]        Q1\\Received\\Desjardins\\Desjardins Q1 2018-Quarterly Mutual Fund Survey.xlsx\n",
      "[0]        Q1\\Received\\Dynamic\\Dynamic Q1 2018-Quarterly Mutual Fund Survey (002).xlsx\n",
      "[0]        Q1\\Received\\Fidelity\\Fidelity Quarterly_Provincial_MF_Survey (002).xlsx\n",
      "[0]        Q1\\Received\\FTI\\FTI Q1 2018-Quarterly Mutual Fund Survey Inquiries.xlsx\n",
      "[0]        Q1\\Received\\FTI\\FTI Q1 2018-Quarterly Mutual Fund Survey.xlsx\n",
      "[0]        Q1\\Received\\HSBC\\HSBC Q1 2018-Quarterly Mutual Fund Survey.xlsx\n",
      "[0]        Q1\\Received\\IG\\Investors Group Q1 2018 Quarterly Mutual Fund Survey Inquiries.xlsx\n",
      "[0]        Q1\\Received\\IG\\Investors Group Q1 2018 Quarterly Mutual Fund Survey.xlsx\n",
      "[0]        Q1\\Received\\Invesco\\Invesco Quarterly Mutual Fund Survey 2018-Q1.xlsx\n",
      "[0]        Q1\\Received\\Mackenzie\\Mackenzie Q1 2018-Quarterly Mutual Fund Survey Inquiries.xls\n",
      "[0]        Q1\\Received\\Mackenzie\\Mackenzie Q1 2018-Quarterly Mutual Fund Survey.xls\n",
      "[0]        Q1\\Received\\Manulife\\Manulife Q1 2018-Quarterly Mutual Fund Survey Inquiries.xlsx\n",
      "[0]        Q1\\Received\\Manulife\\Manulife Q1 2018-Quarterly Mutual Fund Survey.xlsx\n",
      "[0]        Q1\\Received\\Manulife\\Q1 2018-Quarterly Mutual Fund Survey(Revised).xlsx\n",
      "[0]        Q1\\Received\\Manulife\\RE Quarterly mutual fund survey - provincial data inquiries.msg\n",
      "[0]        Q1\\Received\\National Bank\\NB Q1 2018-Quarterly Mutual Fund Survey.xlsx\n",
      "[0]        Q1\\Received\\PIMCO\\PIMCO Q1 2018-Quarterly Mutual Fund Survey.xlsx\n",
      "[0]        Q1\\Received\\RBC\\RBC Q1 2018 - Qtrly MF Survey - FINAL.xlsx\n",
      "[0]        Q1\\Received\\Russell\\Russell Q1 2018-Quarterly Mutual Fund Survey (003).xlsx\n",
      "[0]        Q1\\Received\\Scotia\\Scotia Q1 2018-Quarterly Mutual Fund Survey.xlsx\n",
      "[0]        Q1\\Received\\TD\\REVISED 2018 Q1 SERIES DATA.xls\n",
      "[0]        Q1\\Received\\TD\\TD 2018 Q1 Provincial MF Survey.xls\n",
      "[1]        Q2\\Q2 2018-Quarterly Mutual Fund Survey.xlsx\n",
      "[1]        Q2\\Survey Tracker.xlsx\n",
      "[1]        Q2\\Received\\Q2 2018 Assets.xlsx\n",
      "[1]        Q2\\Received\\Q2 2018 RedGr.xlsx\n",
      "[1]        Q2\\Received\\AGF\\AGF Q2 2018-Quarterly Mutual Fund Survey (008).xlsx\n",
      "[1]        Q2\\Received\\AVISO\\AVISO Q2 2018-Quarterly Mutual Fund Survey (002).xlsx\n",
      "[1]        Q2\\Received\\BMO\\BMO 2018_Q2 - Quarterly Mutual Fund Survey.xlsx\n",
      "[1]        Q2\\Received\\Bridgehouse\\Bridgehouse Q2 2018-Quarterly Mutual Fund Survey.xlsx\n",
      "[1]        Q2\\Received\\Bridgehouse\\FW Strategic Insight Quarterly Mutual Funds Survey Q2 2018.msg\n",
      "[1]        Q2\\Received\\CI\\Investor_Economics_Q2_2018_All_CI_Brands.xls\n",
      "[1]        Q2\\Received\\CIBC\\CIBC Template Q2 2018.xlsx\n",
      "[1]        Q2\\Received\\CIBC\\Copy of Q2 2018 - CIBC Quarterly Mutual Fund Survey.xls\n",
      "[1]        Q2\\Received\\CIBC\\Copy of Q2 2018 - Renaissance Quarterly Mutual Fund Survey HC.xls\n",
      "[1]        Q2\\Received\\Desjardins\\Desjardins Q2 2018-Quarterly Mutual Fund Survey (005).xlsx\n",
      "[1]        Q2\\Received\\Dynamic\\Dynamic Q2 2018-Quarterly Mutual Fund Survey (007).xlsx\n",
      "[1]        Q2\\Received\\Fidelity\\Fidelity Quarterly_Provincial_MF_Survey Q2 2018.xlsx\n",
      "[1]        Q2\\Received\\FTI\\Q2 2018-Quarterly Mutual Fund Survey - FT.xlsx\n",
      "[1]        Q2\\Received\\HSBC\\HSBC Q2 2018-Quarterly Mutual Fund Survey (009).xlsx\n",
      "[1]        Q2\\Received\\IG\\IG Q2 2018 Quarterly Mutual Fund Survey inquiries.xlsx\n",
      "[1]        Q2\\Received\\IG\\IG Q2 2018 Quarterly Mutual Fund Survey.xlsx\n",
      "[1]        Q2\\Received\\Invesco\\Invesco Quarterly Mutual Fund Survey 2018-Q2.xlsx\n",
      "[1]        Q2\\Received\\Invesco\\Invesco Quarterly Mutual Fund Survey 2018-Q2v2.xlsx\n",
      "[1]        Q2\\Received\\Mackenzie\\Mackenzie Q2 2018-Quarterly Mutual Fund Survey Inquiries.xls\n",
      "[1]        Q2\\Received\\Mackenzie\\Mackenzie Q2 2018-Quarterly Mutual Fund Survey.xls\n",
      "[1]        Q2\\Received\\Mackenzie\\RE Quarterly mutual fund survey inquiries.msg\n",
      "[1]        Q2\\Received\\Mackenzie\\Revisions\\Q1 2018-Quarterly Mutual Fund Survey V2.xls\n",
      "[1]        Q2\\Received\\Mackenzie\\Revisions\\Q2 2018-Quarterly Mutual Fund Survey V2.xls\n",
      "[1]        Q2\\Received\\Manulife\\Manulife 2018-Q2-Quarterly Mutual Fund Survey Inquiries.xlsx\n",
      "[1]        Q2\\Received\\Manulife\\Manulife 2018-Q2-Quarterly Mutual Fund Survey.xlsx\n",
      "[1]        Q2\\Received\\National Bank\\NB Q2 2018-Quarterly Mutual Fund Survey (004).xlsx\n",
      "[1]        Q2\\Received\\PIMCO\\PIMCO Q2 2018-Quarterly Mutual Fund Survey (00A).xlsx\n",
      "[1]        Q2\\Received\\PIMCO\\PIMCO Q2 2018-Quarterly Mutual Fund Survey Inquiries.xlsx\n",
      "[1]        Q2\\Received\\PIMCO\\Q2 2018-Quarterly Mutual Fund Survey (Revised).xlsx\n",
      "[1]        Q2\\Received\\PIMCO\\RE Quarterly mutual fund survey inquiries.msg\n",
      "[1]        Q2\\Received\\RBC\\RBC 06 Q2 2018 - Qtrly MF Survey - FINAL.xlsx\n",
      "[1]        Q2\\Received\\Russel\\Russell Q2 2018-Quarterly Mutual Fund Survey (006).xlsx\n",
      "[1]        Q2\\Received\\Scotia\\Scotia Q2 2018-Quarterly Mutual Fund Survey (003).xlsx\n",
      "[1]        Q2\\Received\\TD\\TD 2018 Q2 Provincial MF Survey.xls\n",
      "[1]        Q3\\Q3 2018-Quarterly Mutual Fund Survey.xlsx\n",
      "[1]        Q3\\Received\\Q3 2018 Assets.xlsx\n",
      "[1]        Q3\\Received\\Q3 2018 RedGr.xlsx\n",
      "[1]        Q3\\Received\\AGF\\AGF Q3 2018-Quarterly Mutual Fund Survey Inquiries.xlsx\n",
      "[1]        Q3\\Received\\AGF\\AGF Q3 2018-Quarterly Mutual Fund Survey.xlsx\n",
      "[1]        Q3\\Received\\AVISO\\AVISO Q3 2018-Quarterly Mutual Fund Survey.xlsx\n",
      "[1]        Q3\\Received\\BMO\\BMO 2018_Q3 - Quarterly Mutual Fund Survey.xlsx\n",
      "[1]        Q3\\Received\\Bridgehouse\\Bridgehouse Q3 2018-Quarterly Mutual Fund Survey.xlsx\n",
      "[1]        Q3\\Received\\CI\\Q3_2018_All_CI_Brands Inquiries.xls\n",
      "[1]        Q3\\Received\\CI\\Q3_2018_All_CI_Brands.xls\n",
      "[1]        Q3\\Received\\CIBC\\CIBC Template Q3 2018.xlsx\n",
      "[1]        Q3\\Received\\CIBC\\Q3 2018 - CIBC Quarterly Mutual Fund Survey.xls\n",
      "[1]        Q3\\Received\\CIBC\\Q3 2018 - Renaissance Quarterly Mutual Fund Survey HC.xls\n",
      "[1]        Q3\\Received\\Desjardins\\Desjardins Q3 2018-Quarterly Mutual Fund Survey.xlsx\n",
      "[1]        Q3\\Received\\Fidelity\\Fidelity Quarterly_Provincial_MF_Survey.xlsx\n",
      "[1]        Q3\\Received\\FTI\\FTI Q3 2018-Quarterly Mutual Fund Survey Inquiries.xlsx\n",
      "[1]        Q3\\Received\\FTI\\FTI Q3 2018-Quarterly Mutual Fund Survey.xlsx\n",
      "[1]        Q3\\Received\\HSBC\\HSBC Q3 2018-Quarterly Mutual Fund Survey Inquiries.xlsx\n",
      "[1]        Q3\\Received\\HSBC\\HSBC Q3 2018-Quarterly Mutual Fund Survey.xlsx\n",
      "[1]        Q3\\Received\\IG\\IG Q3 2018 Quarterly Mutual Fund Survey.xlsx\n",
      "[1]        Q3\\Received\\Invesco\\Invesco Quarterly Mutual Fund Survey 2018-Q3.xlsx\n",
      "[1]        Q3\\Received\\Mackenzie\\FW Strategic Insight Quarterly Mutual Funds Survey Q3 2018.msg\n",
      "[1]        Q3\\Received\\Mackenzie\\Mackenzie Q3 2018-Quarterly Mutual Fund Survey.xls\n",
      "[1]        Q3\\Received\\Mackenzie\\Q3 2018-Quarterly Mutual Fund Survey (Revised).xls\n",
      "[1]        Q3\\Received\\Manulife\\Manulife 2018-Q3-Quarterly Mutual Fund Survey.xlsx\n",
      "[1]        Q3\\Received\\National Bank\\NB Q3 2018-Quarterly Mutual Fund Survey (006).xlsx\n",
      "[1]        Q3\\Received\\PIMCO\\PIMCO Q3 2018-Quarterly Mutual Fund Survey.xlsx\n",
      "[1]        Q3\\Received\\RBC\\RBC 06 Q3 2018 - Qtrly MF Survey - FINAL.xlsx\n",
      "[1]        Q3\\Received\\Russel\\Russell Q3 2018-Quarterly Mutual Fund Survey.xlsx\n",
      "[1]        Q3\\Received\\Scotia\\Scotia Q3 2018-Quarterly Mutual Fund Survey.xlsx\n",
      "[1]        Q3\\Received\\TD\\TD 2018 Q3 Provincial MF Survey.xls\n",
      "[1]        Q4\\Contact list Q4 2018.xlsx\n",
      "[1]        Q4\\Q4 2018-Quarterly Mutual Fund Survey.xlsx\n",
      "[1]        Q4\\Received\\Q4 2018 Assets.xlsx\n",
      "[1]        Q4\\Received\\Q4 2018 RedGr.xlsx\n",
      "[1]        Q4\\Received\\AGF\\AGF Q4 2018-Quarterly Mutual Fund Survey.xlsx\n",
      "[1]        Q4\\Received\\BMO\\BMO 2018_Q4 - Quarterly Mutual Fund Survey.xlsx\n",
      "[1]        Q4\\Received\\Bridgehouse\\Bridgehouse Q4 2018-Quarterly Mutual Fund Survey.xlsx\n",
      "[1]        Q4\\Received\\CI\\Investor_Economics_Q4_2018_All_CI_Brands.xls\n",
      "[1]        Q4\\Received\\CIBC\\Q4 2018 - CIBC Quarterly Mutual Fund Survey.xls\n",
      "[1]        Q4\\Received\\CIBC\\Q4 2018 - Renaissance Quarterly Mutual Fund Survey HC.XLS\n",
      "[1]        Q4\\Received\\Desjardins\\Desjardins Q4 2018-Quarterly Mutual Fund Survey (002).xlsx\n",
      "[1]        Q4\\Received\\Fidelity\\Fidelity Quarterly_Provincial_MF_Survey.xlsx\n",
      "[1]        Q4\\Received\\HSBC\\HSBC Q4 2018-Quarterly Mutual Fund Survey.xlsx\n",
      "[1]        Q4\\Received\\IG\\IG Q4 2018 Quarterly Mutual Fund Survey.xlsx\n",
      "[1]        Q4\\Received\\Invesco\\Invesco Quarterly Mutual Fund Survey 2018-Q4.xlsx\n",
      "[1]        Q4\\Received\\Mackenzie\\Mackenzie Q4 2018-Quarterly Mutual Fund Survey Final.xls\n",
      "[1]        Q4\\Received\\Manulife\\Manulife 2018-Q4-Quarterly Mutual Fund Survey.xlsx\n",
      "[1]        Q4\\Received\\NEI\\NEI Q4 2018-Quarterly Mutual Fund Survey.xlsx\n",
      "[1]        Q4\\Received\\PIMCO\\PIMCO Q4 2018-Quarterly Mutual Fund Survey (002).xlsx\n",
      "[1]        Q4\\Received\\PIMCO\\~$PIMCO Q4 2018-Quarterly Mutual Fund Survey (002).xlsx\n",
      "[1]        Q4\\Received\\Russel\\Russell Q4 2018-Quarterly Mutual Fund Survey.xlsx\n",
      "[1]        Q4\\Received\\TD\\TD 2018 Q4 Provincial MF Survey.xls\n"
     ]
    }
   ],
   "source": [
    "for i in range(len(file_path_list)):\n",
    "    print('[{}]        '.format(str(model.labels_[i])) + file_path_list[i][50:])"
   ]
  },
  {
   "cell_type": "markdown",
   "metadata": {},
   "source": [
    "We can see above that the k-means clustering on the strings does not do a good job of differentiating out the files we want."
   ]
  }
 ],
 "metadata": {
  "kernelspec": {
   "display_name": "Python 3",
   "language": "python",
   "name": "python3"
  },
  "language_info": {
   "codemirror_mode": {
    "name": "ipython",
    "version": 3
   },
   "file_extension": ".py",
   "mimetype": "text/x-python",
   "name": "python",
   "nbconvert_exporter": "python",
   "pygments_lexer": "ipython3",
   "version": "3.7.2"
  }
 },
 "nbformat": 4,
 "nbformat_minor": 2
}
