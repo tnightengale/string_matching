{
 "cells": [
  {
   "cell_type": "markdown",
   "metadata": {},
   "source": [
    "# Excel Extract: Book 1"
   ]
  },
  {
   "cell_type": "markdown",
   "metadata": {},
   "source": [
    "## Explore methods for traversing directories recursively and clustering common file names"
   ]
  },
  {
   "cell_type": "code",
   "execution_count": 1,
   "metadata": {},
   "outputs": [],
   "source": [
    "import glob\n",
    "import os\n",
    "import pandas as pd\n",
    "import re\n",
    "import jellyfish"
   ]
  },
  {
   "cell_type": "code",
   "execution_count": 2,
   "metadata": {},
   "outputs": [],
   "source": [
    "a = os.walk(r'Z:\\Data\\Surveys\\Quarterly Mutual Fund Survey\\2018')"
   ]
  },
  {
   "cell_type": "code",
   "execution_count": 3,
   "metadata": {},
   "outputs": [],
   "source": [
    "def file_search(dirpath):\n",
    "    '''\n",
    "    Recursively walks the dirpath and creates a list of all\n",
    "    files. Clusters files by similarity and outputs a list\n",
    "    of the most prevalent cluster.\n",
    "    '''\n",
    "    file_paths = []\n",
    "    for root, dirs, files in os.walk(dirpath):\n",
    "        for filename in files:\n",
    "            file_paths.append(os.path.join(root,filename))\n",
    "    return file_paths"
   ]
  },
  {
   "cell_type": "code",
   "execution_count": 4,
   "metadata": {},
   "outputs": [],
   "source": [
    "test = r'Z:\\Data\\Surveys\\Quarterly Mutual Fund Survey\\2018'"
   ]
  },
  {
   "cell_type": "code",
   "execution_count": 9,
   "metadata": {},
   "outputs": [],
   "source": [
    "a = file_search(test) #HARDCODE 1"
   ]
  },
  {
   "cell_type": "code",
   "execution_count": 10,
   "metadata": {},
   "outputs": [
    {
     "data": {
      "text/plain": [
       "['Z:\\\\Data\\\\Surveys\\\\Quarterly Mutual Fund Survey\\\\2018\\\\Q1\\\\Contact list Q1 2018.xlsx',\n",
       " 'Z:\\\\Data\\\\Surveys\\\\Quarterly Mutual Fund Survey\\\\2018\\\\Q1\\\\Q1 2018-Quarterly Mutual Fund Survey.xlsx',\n",
       " 'Z:\\\\Data\\\\Surveys\\\\Quarterly Mutual Fund Survey\\\\2018\\\\Q1\\\\Survey Tracker.xlsx',\n",
       " 'Z:\\\\Data\\\\Surveys\\\\Quarterly Mutual Fund Survey\\\\2018\\\\Q1\\\\Received\\\\Q1 2018 Assets.xlsx',\n",
       " 'Z:\\\\Data\\\\Surveys\\\\Quarterly Mutual Fund Survey\\\\2018\\\\Q1\\\\Received\\\\Q1 2018 RedGr.xlsx',\n",
       " 'Z:\\\\Data\\\\Surveys\\\\Quarterly Mutual Fund Survey\\\\2018\\\\Q1\\\\Received\\\\AGF\\\\AGF Q1 2018-Quarterly Mutual Fund Survey Inquiries.xlsx',\n",
       " 'Z:\\\\Data\\\\Surveys\\\\Quarterly Mutual Fund Survey\\\\2018\\\\Q1\\\\Received\\\\AGF\\\\AGF Q1 2018-Quarterly Mutual Fund Survey.xlsx',\n",
       " 'Z:\\\\Data\\\\Surveys\\\\Quarterly Mutual Fund Survey\\\\2018\\\\Q1\\\\Received\\\\AVISO\\\\AVISO Q1 2018-Quarterly Mutual Fund Survey Inquiries.xlsx',\n",
       " 'Z:\\\\Data\\\\Surveys\\\\Quarterly Mutual Fund Survey\\\\2018\\\\Q1\\\\Received\\\\AVISO\\\\AVISO Q1 2018-Quarterly Mutual Fund Survey.xlsx',\n",
       " 'Z:\\\\Data\\\\Surveys\\\\Quarterly Mutual Fund Survey\\\\2018\\\\Q1\\\\Received\\\\AVISO\\\\RE Quarterly mutual fund survey - provincial data inquiries.msg',\n",
       " 'Z:\\\\Data\\\\Surveys\\\\Quarterly Mutual Fund Survey\\\\2018\\\\Q1\\\\Received\\\\BMO\\\\2018_Q1 - BMO Quarterly Mutual Fund Survey.xlsx',\n",
       " 'Z:\\\\Data\\\\Surveys\\\\Quarterly Mutual Fund Survey\\\\2018\\\\Q1\\\\Received\\\\Bridgehouse\\\\Bridgehouse Q1 2018-Quarterly Mutual Fund Survey.xlsx',\n",
       " 'Z:\\\\Data\\\\Surveys\\\\Quarterly Mutual Fund Survey\\\\2018\\\\Q1\\\\Received\\\\CI\\\\Q1_2018_All_CI_Brands.xls',\n",
       " 'Z:\\\\Data\\\\Surveys\\\\Quarterly Mutual Fund Survey\\\\2018\\\\Q1\\\\Received\\\\CIBC\\\\CIBC Template Q1 2018.xlsx',\n",
       " 'Z:\\\\Data\\\\Surveys\\\\Quarterly Mutual Fund Survey\\\\2018\\\\Q1\\\\Received\\\\CIBC\\\\Copy of Q1 2018 - CIBC Quarterly Mutual Fund Survey.xls',\n",
       " 'Z:\\\\Data\\\\Surveys\\\\Quarterly Mutual Fund Survey\\\\2018\\\\Q1\\\\Received\\\\CIBC\\\\Copy of Q1 2018 - Renaissance Quarterly Mutual Fund Survey HC.xls',\n",
       " 'Z:\\\\Data\\\\Surveys\\\\Quarterly Mutual Fund Survey\\\\2018\\\\Q1\\\\Received\\\\Desjardins\\\\Desjardins Q1 2018-Quarterly Mutual Fund Survey.xlsx',\n",
       " 'Z:\\\\Data\\\\Surveys\\\\Quarterly Mutual Fund Survey\\\\2018\\\\Q1\\\\Received\\\\Dynamic\\\\Dynamic Q1 2018-Quarterly Mutual Fund Survey (002).xlsx',\n",
       " 'Z:\\\\Data\\\\Surveys\\\\Quarterly Mutual Fund Survey\\\\2018\\\\Q1\\\\Received\\\\Fidelity\\\\Fidelity Quarterly_Provincial_MF_Survey (002).xlsx',\n",
       " 'Z:\\\\Data\\\\Surveys\\\\Quarterly Mutual Fund Survey\\\\2018\\\\Q1\\\\Received\\\\FTI\\\\FTI Q1 2018-Quarterly Mutual Fund Survey Inquiries.xlsx',\n",
       " 'Z:\\\\Data\\\\Surveys\\\\Quarterly Mutual Fund Survey\\\\2018\\\\Q1\\\\Received\\\\FTI\\\\FTI Q1 2018-Quarterly Mutual Fund Survey.xlsx',\n",
       " 'Z:\\\\Data\\\\Surveys\\\\Quarterly Mutual Fund Survey\\\\2018\\\\Q1\\\\Received\\\\HSBC\\\\HSBC Q1 2018-Quarterly Mutual Fund Survey.xlsx',\n",
       " 'Z:\\\\Data\\\\Surveys\\\\Quarterly Mutual Fund Survey\\\\2018\\\\Q1\\\\Received\\\\IG\\\\Investors Group Q1 2018 Quarterly Mutual Fund Survey Inquiries.xlsx',\n",
       " 'Z:\\\\Data\\\\Surveys\\\\Quarterly Mutual Fund Survey\\\\2018\\\\Q1\\\\Received\\\\IG\\\\Investors Group Q1 2018 Quarterly Mutual Fund Survey.xlsx',\n",
       " 'Z:\\\\Data\\\\Surveys\\\\Quarterly Mutual Fund Survey\\\\2018\\\\Q1\\\\Received\\\\Invesco\\\\Invesco Quarterly Mutual Fund Survey 2018-Q1.xlsx',\n",
       " 'Z:\\\\Data\\\\Surveys\\\\Quarterly Mutual Fund Survey\\\\2018\\\\Q1\\\\Received\\\\Mackenzie\\\\Mackenzie Q1 2018-Quarterly Mutual Fund Survey Inquiries.xls',\n",
       " 'Z:\\\\Data\\\\Surveys\\\\Quarterly Mutual Fund Survey\\\\2018\\\\Q1\\\\Received\\\\Mackenzie\\\\Mackenzie Q1 2018-Quarterly Mutual Fund Survey.xls',\n",
       " 'Z:\\\\Data\\\\Surveys\\\\Quarterly Mutual Fund Survey\\\\2018\\\\Q1\\\\Received\\\\Manulife\\\\Manulife Q1 2018-Quarterly Mutual Fund Survey Inquiries.xlsx',\n",
       " 'Z:\\\\Data\\\\Surveys\\\\Quarterly Mutual Fund Survey\\\\2018\\\\Q1\\\\Received\\\\Manulife\\\\Manulife Q1 2018-Quarterly Mutual Fund Survey.xlsx',\n",
       " 'Z:\\\\Data\\\\Surveys\\\\Quarterly Mutual Fund Survey\\\\2018\\\\Q1\\\\Received\\\\Manulife\\\\Q1 2018-Quarterly Mutual Fund Survey(Revised).xlsx',\n",
       " 'Z:\\\\Data\\\\Surveys\\\\Quarterly Mutual Fund Survey\\\\2018\\\\Q1\\\\Received\\\\Manulife\\\\RE Quarterly mutual fund survey - provincial data inquiries.msg',\n",
       " 'Z:\\\\Data\\\\Surveys\\\\Quarterly Mutual Fund Survey\\\\2018\\\\Q1\\\\Received\\\\National Bank\\\\NB Q1 2018-Quarterly Mutual Fund Survey.xlsx',\n",
       " 'Z:\\\\Data\\\\Surveys\\\\Quarterly Mutual Fund Survey\\\\2018\\\\Q1\\\\Received\\\\PIMCO\\\\PIMCO Q1 2018-Quarterly Mutual Fund Survey.xlsx',\n",
       " 'Z:\\\\Data\\\\Surveys\\\\Quarterly Mutual Fund Survey\\\\2018\\\\Q1\\\\Received\\\\RBC\\\\RBC Q1 2018 - Qtrly MF Survey - FINAL.xlsx',\n",
       " 'Z:\\\\Data\\\\Surveys\\\\Quarterly Mutual Fund Survey\\\\2018\\\\Q1\\\\Received\\\\Russell\\\\Russell Q1 2018-Quarterly Mutual Fund Survey (003).xlsx',\n",
       " 'Z:\\\\Data\\\\Surveys\\\\Quarterly Mutual Fund Survey\\\\2018\\\\Q1\\\\Received\\\\Scotia\\\\Scotia Q1 2018-Quarterly Mutual Fund Survey.xlsx',\n",
       " 'Z:\\\\Data\\\\Surveys\\\\Quarterly Mutual Fund Survey\\\\2018\\\\Q1\\\\Received\\\\TD\\\\REVISED 2018 Q1 SERIES DATA.xls',\n",
       " 'Z:\\\\Data\\\\Surveys\\\\Quarterly Mutual Fund Survey\\\\2018\\\\Q1\\\\Received\\\\TD\\\\TD 2018 Q1 Provincial MF Survey.xls',\n",
       " 'Z:\\\\Data\\\\Surveys\\\\Quarterly Mutual Fund Survey\\\\2018\\\\Q2\\\\Q2 2018-Quarterly Mutual Fund Survey.xlsx',\n",
       " 'Z:\\\\Data\\\\Surveys\\\\Quarterly Mutual Fund Survey\\\\2018\\\\Q2\\\\Survey Tracker.xlsx',\n",
       " 'Z:\\\\Data\\\\Surveys\\\\Quarterly Mutual Fund Survey\\\\2018\\\\Q2\\\\Received\\\\Q2 2018 Assets.xlsx',\n",
       " 'Z:\\\\Data\\\\Surveys\\\\Quarterly Mutual Fund Survey\\\\2018\\\\Q2\\\\Received\\\\Q2 2018 RedGr.xlsx',\n",
       " 'Z:\\\\Data\\\\Surveys\\\\Quarterly Mutual Fund Survey\\\\2018\\\\Q2\\\\Received\\\\AGF\\\\AGF Q2 2018-Quarterly Mutual Fund Survey (008).xlsx',\n",
       " 'Z:\\\\Data\\\\Surveys\\\\Quarterly Mutual Fund Survey\\\\2018\\\\Q2\\\\Received\\\\AVISO\\\\AVISO Q2 2018-Quarterly Mutual Fund Survey (002).xlsx',\n",
       " 'Z:\\\\Data\\\\Surveys\\\\Quarterly Mutual Fund Survey\\\\2018\\\\Q2\\\\Received\\\\BMO\\\\BMO 2018_Q2 - Quarterly Mutual Fund Survey.xlsx',\n",
       " 'Z:\\\\Data\\\\Surveys\\\\Quarterly Mutual Fund Survey\\\\2018\\\\Q2\\\\Received\\\\Bridgehouse\\\\Bridgehouse Q2 2018-Quarterly Mutual Fund Survey.xlsx',\n",
       " 'Z:\\\\Data\\\\Surveys\\\\Quarterly Mutual Fund Survey\\\\2018\\\\Q2\\\\Received\\\\Bridgehouse\\\\FW Strategic Insight Quarterly Mutual Funds Survey Q2 2018.msg',\n",
       " 'Z:\\\\Data\\\\Surveys\\\\Quarterly Mutual Fund Survey\\\\2018\\\\Q2\\\\Received\\\\CI\\\\Investor_Economics_Q2_2018_All_CI_Brands.xls',\n",
       " 'Z:\\\\Data\\\\Surveys\\\\Quarterly Mutual Fund Survey\\\\2018\\\\Q2\\\\Received\\\\CIBC\\\\CIBC Template Q2 2018.xlsx',\n",
       " 'Z:\\\\Data\\\\Surveys\\\\Quarterly Mutual Fund Survey\\\\2018\\\\Q2\\\\Received\\\\CIBC\\\\Copy of Q2 2018 - CIBC Quarterly Mutual Fund Survey.xls',\n",
       " 'Z:\\\\Data\\\\Surveys\\\\Quarterly Mutual Fund Survey\\\\2018\\\\Q2\\\\Received\\\\CIBC\\\\Copy of Q2 2018 - Renaissance Quarterly Mutual Fund Survey HC.xls',\n",
       " 'Z:\\\\Data\\\\Surveys\\\\Quarterly Mutual Fund Survey\\\\2018\\\\Q2\\\\Received\\\\Desjardins\\\\Desjardins Q2 2018-Quarterly Mutual Fund Survey (005).xlsx',\n",
       " 'Z:\\\\Data\\\\Surveys\\\\Quarterly Mutual Fund Survey\\\\2018\\\\Q2\\\\Received\\\\Dynamic\\\\Dynamic Q2 2018-Quarterly Mutual Fund Survey (007).xlsx',\n",
       " 'Z:\\\\Data\\\\Surveys\\\\Quarterly Mutual Fund Survey\\\\2018\\\\Q2\\\\Received\\\\Fidelity\\\\Fidelity Quarterly_Provincial_MF_Survey Q2 2018.xlsx',\n",
       " 'Z:\\\\Data\\\\Surveys\\\\Quarterly Mutual Fund Survey\\\\2018\\\\Q2\\\\Received\\\\FTI\\\\Q2 2018-Quarterly Mutual Fund Survey - FT.xlsx',\n",
       " 'Z:\\\\Data\\\\Surveys\\\\Quarterly Mutual Fund Survey\\\\2018\\\\Q2\\\\Received\\\\HSBC\\\\HSBC Q2 2018-Quarterly Mutual Fund Survey (009).xlsx',\n",
       " 'Z:\\\\Data\\\\Surveys\\\\Quarterly Mutual Fund Survey\\\\2018\\\\Q2\\\\Received\\\\IG\\\\IG Q2 2018 Quarterly Mutual Fund Survey inquiries.xlsx',\n",
       " 'Z:\\\\Data\\\\Surveys\\\\Quarterly Mutual Fund Survey\\\\2018\\\\Q2\\\\Received\\\\IG\\\\IG Q2 2018 Quarterly Mutual Fund Survey.xlsx',\n",
       " 'Z:\\\\Data\\\\Surveys\\\\Quarterly Mutual Fund Survey\\\\2018\\\\Q2\\\\Received\\\\Invesco\\\\Invesco Quarterly Mutual Fund Survey 2018-Q2.xlsx',\n",
       " 'Z:\\\\Data\\\\Surveys\\\\Quarterly Mutual Fund Survey\\\\2018\\\\Q2\\\\Received\\\\Invesco\\\\Invesco Quarterly Mutual Fund Survey 2018-Q2v2.xlsx',\n",
       " 'Z:\\\\Data\\\\Surveys\\\\Quarterly Mutual Fund Survey\\\\2018\\\\Q2\\\\Received\\\\Mackenzie\\\\Mackenzie Q2 2018-Quarterly Mutual Fund Survey Inquiries.xls',\n",
       " 'Z:\\\\Data\\\\Surveys\\\\Quarterly Mutual Fund Survey\\\\2018\\\\Q2\\\\Received\\\\Mackenzie\\\\Mackenzie Q2 2018-Quarterly Mutual Fund Survey.xls',\n",
       " 'Z:\\\\Data\\\\Surveys\\\\Quarterly Mutual Fund Survey\\\\2018\\\\Q2\\\\Received\\\\Mackenzie\\\\RE Quarterly mutual fund survey inquiries.msg',\n",
       " 'Z:\\\\Data\\\\Surveys\\\\Quarterly Mutual Fund Survey\\\\2018\\\\Q2\\\\Received\\\\Mackenzie\\\\Revisions\\\\Q1 2018-Quarterly Mutual Fund Survey V2.xls',\n",
       " 'Z:\\\\Data\\\\Surveys\\\\Quarterly Mutual Fund Survey\\\\2018\\\\Q2\\\\Received\\\\Mackenzie\\\\Revisions\\\\Q2 2018-Quarterly Mutual Fund Survey V2.xls',\n",
       " 'Z:\\\\Data\\\\Surveys\\\\Quarterly Mutual Fund Survey\\\\2018\\\\Q2\\\\Received\\\\Manulife\\\\Manulife 2018-Q2-Quarterly Mutual Fund Survey Inquiries.xlsx',\n",
       " 'Z:\\\\Data\\\\Surveys\\\\Quarterly Mutual Fund Survey\\\\2018\\\\Q2\\\\Received\\\\Manulife\\\\Manulife 2018-Q2-Quarterly Mutual Fund Survey.xlsx',\n",
       " 'Z:\\\\Data\\\\Surveys\\\\Quarterly Mutual Fund Survey\\\\2018\\\\Q2\\\\Received\\\\National Bank\\\\NB Q2 2018-Quarterly Mutual Fund Survey (004).xlsx',\n",
       " 'Z:\\\\Data\\\\Surveys\\\\Quarterly Mutual Fund Survey\\\\2018\\\\Q2\\\\Received\\\\PIMCO\\\\PIMCO Q2 2018-Quarterly Mutual Fund Survey (00A).xlsx',\n",
       " 'Z:\\\\Data\\\\Surveys\\\\Quarterly Mutual Fund Survey\\\\2018\\\\Q2\\\\Received\\\\PIMCO\\\\PIMCO Q2 2018-Quarterly Mutual Fund Survey Inquiries.xlsx',\n",
       " 'Z:\\\\Data\\\\Surveys\\\\Quarterly Mutual Fund Survey\\\\2018\\\\Q2\\\\Received\\\\PIMCO\\\\Q2 2018-Quarterly Mutual Fund Survey (Revised).xlsx',\n",
       " 'Z:\\\\Data\\\\Surveys\\\\Quarterly Mutual Fund Survey\\\\2018\\\\Q2\\\\Received\\\\PIMCO\\\\RE Quarterly mutual fund survey inquiries.msg',\n",
       " 'Z:\\\\Data\\\\Surveys\\\\Quarterly Mutual Fund Survey\\\\2018\\\\Q2\\\\Received\\\\RBC\\\\RBC 06 Q2 2018 - Qtrly MF Survey - FINAL.xlsx',\n",
       " 'Z:\\\\Data\\\\Surveys\\\\Quarterly Mutual Fund Survey\\\\2018\\\\Q2\\\\Received\\\\Russel\\\\Russell Q2 2018-Quarterly Mutual Fund Survey (006).xlsx',\n",
       " 'Z:\\\\Data\\\\Surveys\\\\Quarterly Mutual Fund Survey\\\\2018\\\\Q2\\\\Received\\\\Scotia\\\\Scotia Q2 2018-Quarterly Mutual Fund Survey (003).xlsx',\n",
       " 'Z:\\\\Data\\\\Surveys\\\\Quarterly Mutual Fund Survey\\\\2018\\\\Q2\\\\Received\\\\TD\\\\TD 2018 Q2 Provincial MF Survey.xls',\n",
       " 'Z:\\\\Data\\\\Surveys\\\\Quarterly Mutual Fund Survey\\\\2018\\\\Q3\\\\Q3 2018-Quarterly Mutual Fund Survey.xlsx',\n",
       " 'Z:\\\\Data\\\\Surveys\\\\Quarterly Mutual Fund Survey\\\\2018\\\\Q3\\\\Received\\\\Q3 2018 Assets.xlsx',\n",
       " 'Z:\\\\Data\\\\Surveys\\\\Quarterly Mutual Fund Survey\\\\2018\\\\Q3\\\\Received\\\\Q3 2018 RedGr.xlsx',\n",
       " 'Z:\\\\Data\\\\Surveys\\\\Quarterly Mutual Fund Survey\\\\2018\\\\Q3\\\\Received\\\\AGF\\\\AGF Q3 2018-Quarterly Mutual Fund Survey Inquiries.xlsx',\n",
       " 'Z:\\\\Data\\\\Surveys\\\\Quarterly Mutual Fund Survey\\\\2018\\\\Q3\\\\Received\\\\AGF\\\\AGF Q3 2018-Quarterly Mutual Fund Survey.xlsx',\n",
       " 'Z:\\\\Data\\\\Surveys\\\\Quarterly Mutual Fund Survey\\\\2018\\\\Q3\\\\Received\\\\AVISO\\\\AVISO Q3 2018-Quarterly Mutual Fund Survey.xlsx',\n",
       " 'Z:\\\\Data\\\\Surveys\\\\Quarterly Mutual Fund Survey\\\\2018\\\\Q3\\\\Received\\\\BMO\\\\BMO 2018_Q3 - Quarterly Mutual Fund Survey.xlsx',\n",
       " 'Z:\\\\Data\\\\Surveys\\\\Quarterly Mutual Fund Survey\\\\2018\\\\Q3\\\\Received\\\\Bridgehouse\\\\Bridgehouse Q3 2018-Quarterly Mutual Fund Survey.xlsx',\n",
       " 'Z:\\\\Data\\\\Surveys\\\\Quarterly Mutual Fund Survey\\\\2018\\\\Q3\\\\Received\\\\CI\\\\Q3_2018_All_CI_Brands Inquiries.xls',\n",
       " 'Z:\\\\Data\\\\Surveys\\\\Quarterly Mutual Fund Survey\\\\2018\\\\Q3\\\\Received\\\\CI\\\\Q3_2018_All_CI_Brands.xls',\n",
       " 'Z:\\\\Data\\\\Surveys\\\\Quarterly Mutual Fund Survey\\\\2018\\\\Q3\\\\Received\\\\CIBC\\\\CIBC Template Q3 2018.xlsx',\n",
       " 'Z:\\\\Data\\\\Surveys\\\\Quarterly Mutual Fund Survey\\\\2018\\\\Q3\\\\Received\\\\CIBC\\\\Q3 2018 - CIBC Quarterly Mutual Fund Survey.xls',\n",
       " 'Z:\\\\Data\\\\Surveys\\\\Quarterly Mutual Fund Survey\\\\2018\\\\Q3\\\\Received\\\\CIBC\\\\Q3 2018 - Renaissance Quarterly Mutual Fund Survey HC.xls',\n",
       " 'Z:\\\\Data\\\\Surveys\\\\Quarterly Mutual Fund Survey\\\\2018\\\\Q3\\\\Received\\\\Desjardins\\\\Desjardins Q3 2018-Quarterly Mutual Fund Survey.xlsx',\n",
       " 'Z:\\\\Data\\\\Surveys\\\\Quarterly Mutual Fund Survey\\\\2018\\\\Q3\\\\Received\\\\Fidelity\\\\Fidelity Quarterly_Provincial_MF_Survey.xlsx',\n",
       " 'Z:\\\\Data\\\\Surveys\\\\Quarterly Mutual Fund Survey\\\\2018\\\\Q3\\\\Received\\\\FTI\\\\FTI Q3 2018-Quarterly Mutual Fund Survey Inquiries.xlsx',\n",
       " 'Z:\\\\Data\\\\Surveys\\\\Quarterly Mutual Fund Survey\\\\2018\\\\Q3\\\\Received\\\\FTI\\\\FTI Q3 2018-Quarterly Mutual Fund Survey.xlsx',\n",
       " 'Z:\\\\Data\\\\Surveys\\\\Quarterly Mutual Fund Survey\\\\2018\\\\Q3\\\\Received\\\\HSBC\\\\HSBC Q3 2018-Quarterly Mutual Fund Survey Inquiries.xlsx',\n",
       " 'Z:\\\\Data\\\\Surveys\\\\Quarterly Mutual Fund Survey\\\\2018\\\\Q3\\\\Received\\\\HSBC\\\\HSBC Q3 2018-Quarterly Mutual Fund Survey.xlsx',\n",
       " 'Z:\\\\Data\\\\Surveys\\\\Quarterly Mutual Fund Survey\\\\2018\\\\Q3\\\\Received\\\\IG\\\\IG Q3 2018 Quarterly Mutual Fund Survey.xlsx',\n",
       " 'Z:\\\\Data\\\\Surveys\\\\Quarterly Mutual Fund Survey\\\\2018\\\\Q3\\\\Received\\\\Invesco\\\\Invesco Quarterly Mutual Fund Survey 2018-Q3.xlsx',\n",
       " 'Z:\\\\Data\\\\Surveys\\\\Quarterly Mutual Fund Survey\\\\2018\\\\Q3\\\\Received\\\\Mackenzie\\\\FW Strategic Insight Quarterly Mutual Funds Survey Q3 2018.msg',\n",
       " 'Z:\\\\Data\\\\Surveys\\\\Quarterly Mutual Fund Survey\\\\2018\\\\Q3\\\\Received\\\\Mackenzie\\\\Mackenzie Q3 2018-Quarterly Mutual Fund Survey.xls',\n",
       " 'Z:\\\\Data\\\\Surveys\\\\Quarterly Mutual Fund Survey\\\\2018\\\\Q3\\\\Received\\\\Mackenzie\\\\Q3 2018-Quarterly Mutual Fund Survey (Revised).xls',\n",
       " 'Z:\\\\Data\\\\Surveys\\\\Quarterly Mutual Fund Survey\\\\2018\\\\Q3\\\\Received\\\\Manulife\\\\Manulife 2018-Q3-Quarterly Mutual Fund Survey.xlsx',\n",
       " 'Z:\\\\Data\\\\Surveys\\\\Quarterly Mutual Fund Survey\\\\2018\\\\Q3\\\\Received\\\\National Bank\\\\NB Q3 2018-Quarterly Mutual Fund Survey (006).xlsx',\n",
       " 'Z:\\\\Data\\\\Surveys\\\\Quarterly Mutual Fund Survey\\\\2018\\\\Q3\\\\Received\\\\PIMCO\\\\PIMCO Q3 2018-Quarterly Mutual Fund Survey.xlsx',\n",
       " 'Z:\\\\Data\\\\Surveys\\\\Quarterly Mutual Fund Survey\\\\2018\\\\Q3\\\\Received\\\\RBC\\\\RBC 06 Q3 2018 - Qtrly MF Survey - FINAL.xlsx',\n",
       " 'Z:\\\\Data\\\\Surveys\\\\Quarterly Mutual Fund Survey\\\\2018\\\\Q3\\\\Received\\\\Russel\\\\Russell Q3 2018-Quarterly Mutual Fund Survey.xlsx',\n",
       " 'Z:\\\\Data\\\\Surveys\\\\Quarterly Mutual Fund Survey\\\\2018\\\\Q3\\\\Received\\\\Scotia\\\\Scotia Q3 2018-Quarterly Mutual Fund Survey.xlsx',\n",
       " 'Z:\\\\Data\\\\Surveys\\\\Quarterly Mutual Fund Survey\\\\2018\\\\Q3\\\\Received\\\\TD\\\\TD 2018 Q3 Provincial MF Survey.xls',\n",
       " 'Z:\\\\Data\\\\Surveys\\\\Quarterly Mutual Fund Survey\\\\2018\\\\Q4\\\\Contact list Q4 2018.xlsx',\n",
       " 'Z:\\\\Data\\\\Surveys\\\\Quarterly Mutual Fund Survey\\\\2018\\\\Q4\\\\Q4 2018-Quarterly Mutual Fund Survey.xlsx',\n",
       " 'Z:\\\\Data\\\\Surveys\\\\Quarterly Mutual Fund Survey\\\\2018\\\\Q4\\\\Received\\\\Q4 2018 Assets.xlsx',\n",
       " 'Z:\\\\Data\\\\Surveys\\\\Quarterly Mutual Fund Survey\\\\2018\\\\Q4\\\\Received\\\\Q4 2018 RedGr.xlsx',\n",
       " 'Z:\\\\Data\\\\Surveys\\\\Quarterly Mutual Fund Survey\\\\2018\\\\Q4\\\\Received\\\\AGF\\\\AGF Q4 2018-Quarterly Mutual Fund Survey.xlsx',\n",
       " 'Z:\\\\Data\\\\Surveys\\\\Quarterly Mutual Fund Survey\\\\2018\\\\Q4\\\\Received\\\\BMO\\\\BMO 2018_Q4 - Quarterly Mutual Fund Survey.xlsx',\n",
       " 'Z:\\\\Data\\\\Surveys\\\\Quarterly Mutual Fund Survey\\\\2018\\\\Q4\\\\Received\\\\Bridgehouse\\\\Bridgehouse Q4 2018-Quarterly Mutual Fund Survey.xlsx',\n",
       " 'Z:\\\\Data\\\\Surveys\\\\Quarterly Mutual Fund Survey\\\\2018\\\\Q4\\\\Received\\\\CI\\\\Investor_Economics_Q4_2018_All_CI_Brands.xls',\n",
       " 'Z:\\\\Data\\\\Surveys\\\\Quarterly Mutual Fund Survey\\\\2018\\\\Q4\\\\Received\\\\CIBC\\\\Q4 2018 - CIBC Quarterly Mutual Fund Survey.xls',\n",
       " 'Z:\\\\Data\\\\Surveys\\\\Quarterly Mutual Fund Survey\\\\2018\\\\Q4\\\\Received\\\\CIBC\\\\Q4 2018 - Renaissance Quarterly Mutual Fund Survey HC.XLS',\n",
       " 'Z:\\\\Data\\\\Surveys\\\\Quarterly Mutual Fund Survey\\\\2018\\\\Q4\\\\Received\\\\Desjardins\\\\Desjardins Q4 2018-Quarterly Mutual Fund Survey (002).xlsx',\n",
       " 'Z:\\\\Data\\\\Surveys\\\\Quarterly Mutual Fund Survey\\\\2018\\\\Q4\\\\Received\\\\Fidelity\\\\Fidelity Quarterly_Provincial_MF_Survey.xlsx',\n",
       " 'Z:\\\\Data\\\\Surveys\\\\Quarterly Mutual Fund Survey\\\\2018\\\\Q4\\\\Received\\\\HSBC\\\\HSBC Q4 2018-Quarterly Mutual Fund Survey.xlsx',\n",
       " 'Z:\\\\Data\\\\Surveys\\\\Quarterly Mutual Fund Survey\\\\2018\\\\Q4\\\\Received\\\\IG\\\\IG Q4 2018 Quarterly Mutual Fund Survey.xlsx',\n",
       " 'Z:\\\\Data\\\\Surveys\\\\Quarterly Mutual Fund Survey\\\\2018\\\\Q4\\\\Received\\\\Invesco\\\\Invesco Quarterly Mutual Fund Survey 2018-Q4.xlsx',\n",
       " 'Z:\\\\Data\\\\Surveys\\\\Quarterly Mutual Fund Survey\\\\2018\\\\Q4\\\\Received\\\\Mackenzie\\\\Mackenzie Q4 2018-Quarterly Mutual Fund Survey Final.xls',\n",
       " 'Z:\\\\Data\\\\Surveys\\\\Quarterly Mutual Fund Survey\\\\2018\\\\Q4\\\\Received\\\\Manulife\\\\Manulife 2018-Q4-Quarterly Mutual Fund Survey.xlsx',\n",
       " 'Z:\\\\Data\\\\Surveys\\\\Quarterly Mutual Fund Survey\\\\2018\\\\Q4\\\\Received\\\\NEI\\\\NEI Q4 2018-Quarterly Mutual Fund Survey.xlsx',\n",
       " 'Z:\\\\Data\\\\Surveys\\\\Quarterly Mutual Fund Survey\\\\2018\\\\Q4\\\\Received\\\\PIMCO\\\\PIMCO Q4 2018-Quarterly Mutual Fund Survey (002).xlsx',\n",
       " 'Z:\\\\Data\\\\Surveys\\\\Quarterly Mutual Fund Survey\\\\2018\\\\Q4\\\\Received\\\\PIMCO\\\\~$PIMCO Q4 2018-Quarterly Mutual Fund Survey (002).xlsx',\n",
       " 'Z:\\\\Data\\\\Surveys\\\\Quarterly Mutual Fund Survey\\\\2018\\\\Q4\\\\Received\\\\Russel\\\\Russell Q4 2018-Quarterly Mutual Fund Survey.xlsx',\n",
       " 'Z:\\\\Data\\\\Surveys\\\\Quarterly Mutual Fund Survey\\\\2018\\\\Q4\\\\Received\\\\TD\\\\TD 2018 Q4 Provincial MF Survey.xls']"
      ]
     },
     "execution_count": 10,
     "metadata": {},
     "output_type": "execute_result"
    }
   ],
   "source": [
    "a"
   ]
  }
 ],
 "metadata": {
  "kernelspec": {
   "display_name": "Python 3",
   "language": "python",
   "name": "python3"
  },
  "language_info": {
   "codemirror_mode": {
    "name": "ipython",
    "version": 3
   },
   "file_extension": ".py",
   "mimetype": "text/x-python",
   "name": "python",
   "nbconvert_exporter": "python",
   "pygments_lexer": "ipython3",
   "version": "3.7.2"
  }
 },
 "nbformat": 4,
 "nbformat_minor": 2
}
